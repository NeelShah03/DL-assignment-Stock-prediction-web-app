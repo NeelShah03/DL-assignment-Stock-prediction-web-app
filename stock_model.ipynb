{
 "cells": [
  {
   "cell_type": "markdown",
   "id": "b0f314dc-af8a-4f2a-a3b7-ca3099b607c9",
   "metadata": {},
   "source": [
    "#### Name: Neel Shah\n",
    "#### Mis no : 752462009\n",
    "#### Batch no : 2\n"
   ]
  },
  {
   "cell_type": "code",
   "execution_count": 1,
   "id": "47b07a60-ec5f-41a0-947b-7b0f5f9a98c0",
   "metadata": {},
   "outputs": [],
   "source": [
    "import yfinance as yf\n",
    "import pandas as pd\n",
    "import numpy as np\n",
    "from sklearn.model_selection import train_test_split\n",
    "from sklearn.preprocessing import StandardScaler\n",
    "from sklearn.metrics import classification_report\n",
    "import tensorflow as tf\n",
    "from tensorflow.keras import models, layers\n",
    "import joblib"
   ]
  },
  {
   "cell_type": "markdown",
   "id": "59798e77-fb64-47c8-95ad-7ddaa31f492f",
   "metadata": {},
   "source": [
    "### Fetch historical stock data"
   ]
  },
  {
   "cell_type": "code",
   "execution_count": 2,
   "id": "89150cff-d466-4a4e-a829-1b6ac76590b1",
   "metadata": {},
   "outputs": [
    {
     "name": "stdout",
     "output_type": "stream",
     "text": [
      "Fetching data...\n"
     ]
    }
   ],
   "source": [
    "def fetch_stock_data(ticker, period=\"1y\"):\n",
    "    stock_data = yf.Ticker(ticker).history(period=period)\n",
    "    stock_data['PriceChange'] = stock_data['Close'].pct_change().shift(-1)  # Percentage change\n",
    "    stock_data['Target'] = (stock_data['PriceChange'] > 0).astype(int)  # Binary classification\n",
    "    stock_data = stock_data.dropna()\n",
    "    return stock_data\n",
    "\n",
    "# Fetch data for training\n",
    "print(\"Fetching data...\")\n",
    "data = fetch_stock_data(\"AAPL\", period=\"1y\")  # Apple stock as an example\n",
    "\n",
    "# Features and target\n",
    "X = data[['Open', 'High', 'Low', 'Close', 'Volume']]\n",
    "y = data['Target']\n",
    "\n",
    "# Train-test split\n",
    "X_train, X_test, y_train, y_test = train_test_split(X, y, test_size=0.3, random_state=42)\n",
    "\n",
    "# Scale features\n",
    "scaler = StandardScaler()\n",
    "X_train_scaled = scaler.fit_transform(X_train)\n",
    "X_test_scaled = scaler.transform(X_test)"
   ]
  },
  {
   "cell_type": "markdown",
   "id": "639facc3-61c8-4315-ab3f-48169f1bd8fa",
   "metadata": {},
   "source": [
    "### Define model"
   ]
  },
  {
   "cell_type": "code",
   "execution_count": 3,
   "id": "0bd79ebf-6204-499d-a508-aeb526b3bacd",
   "metadata": {},
   "outputs": [],
   "source": [
    "model = models.Sequential([\n",
    "    layers.Dense(64, activation='relu', input_shape=(X_train_scaled.shape[1],)),\n",
    "    layers.Dropout(0.2),\n",
    "    layers.Dense(32, activation='relu'),\n",
    "    layers.Dense(16, activation='relu'),\n",
    "    layers.Dense(1, activation='sigmoid')  # Binary classification\n",
    "])\n",
    "\n",
    "# Compile model\n",
    "model.compile(optimizer='adam', loss='binary_crossentropy', metrics=['accuracy'])"
   ]
  },
  {
   "cell_type": "markdown",
   "id": "c9ace166-6398-404d-84cd-128f85ef1a03",
   "metadata": {},
   "source": [
    "### Train model"
   ]
  },
  {
   "cell_type": "code",
   "execution_count": 4,
   "id": "eb12788a-5b4a-44a8-8316-8d8b5c324040",
   "metadata": {},
   "outputs": [
    {
     "name": "stdout",
     "output_type": "stream",
     "text": [
      "Training model...\n",
      "Epoch 1/20\n",
      "5/5 [==============================] - 2s 99ms/step - loss: 0.7031 - accuracy: 0.4429 - val_loss: 0.7036 - val_accuracy: 0.5143\n",
      "Epoch 2/20\n",
      "5/5 [==============================] - 0s 17ms/step - loss: 0.7018 - accuracy: 0.4429 - val_loss: 0.7017 - val_accuracy: 0.4571\n",
      "Epoch 3/20\n",
      "5/5 [==============================] - 0s 17ms/step - loss: 0.6906 - accuracy: 0.5286 - val_loss: 0.6997 - val_accuracy: 0.5143\n",
      "Epoch 4/20\n",
      "5/5 [==============================] - 0s 16ms/step - loss: 0.6883 - accuracy: 0.5500 - val_loss: 0.6949 - val_accuracy: 0.5429\n",
      "Epoch 5/20\n",
      "5/5 [==============================] - 0s 17ms/step - loss: 0.6912 - accuracy: 0.5286 - val_loss: 0.6900 - val_accuracy: 0.6000\n",
      "Epoch 6/20\n",
      "5/5 [==============================] - 0s 20ms/step - loss: 0.6848 - accuracy: 0.5286 - val_loss: 0.6871 - val_accuracy: 0.5714\n",
      "Epoch 7/20\n",
      "5/5 [==============================] - 0s 19ms/step - loss: 0.6824 - accuracy: 0.6214 - val_loss: 0.6851 - val_accuracy: 0.5429\n",
      "Epoch 8/20\n",
      "5/5 [==============================] - 0s 16ms/step - loss: 0.6906 - accuracy: 0.6000 - val_loss: 0.6835 - val_accuracy: 0.5429\n",
      "Epoch 9/20\n",
      "5/5 [==============================] - 0s 17ms/step - loss: 0.6843 - accuracy: 0.5786 - val_loss: 0.6826 - val_accuracy: 0.5429\n",
      "Epoch 10/20\n",
      "5/5 [==============================] - 0s 17ms/step - loss: 0.6812 - accuracy: 0.5643 - val_loss: 0.6816 - val_accuracy: 0.5429\n",
      "Epoch 11/20\n",
      "5/5 [==============================] - 0s 20ms/step - loss: 0.6819 - accuracy: 0.5929 - val_loss: 0.6810 - val_accuracy: 0.5429\n",
      "Epoch 12/20\n",
      "5/5 [==============================] - 0s 17ms/step - loss: 0.6820 - accuracy: 0.5643 - val_loss: 0.6804 - val_accuracy: 0.5429\n",
      "Epoch 13/20\n",
      "5/5 [==============================] - 0s 18ms/step - loss: 0.6801 - accuracy: 0.5929 - val_loss: 0.6797 - val_accuracy: 0.5429\n",
      "Epoch 14/20\n",
      "5/5 [==============================] - 0s 18ms/step - loss: 0.6779 - accuracy: 0.5929 - val_loss: 0.6792 - val_accuracy: 0.5429\n",
      "Epoch 15/20\n",
      "5/5 [==============================] - 0s 16ms/step - loss: 0.6781 - accuracy: 0.6000 - val_loss: 0.6790 - val_accuracy: 0.5429\n",
      "Epoch 16/20\n",
      "5/5 [==============================] - 0s 18ms/step - loss: 0.6783 - accuracy: 0.5929 - val_loss: 0.6798 - val_accuracy: 0.5429\n",
      "Epoch 17/20\n",
      "5/5 [==============================] - 0s 18ms/step - loss: 0.6772 - accuracy: 0.5857 - val_loss: 0.6799 - val_accuracy: 0.5714\n",
      "Epoch 18/20\n",
      "5/5 [==============================] - 0s 18ms/step - loss: 0.6744 - accuracy: 0.6143 - val_loss: 0.6802 - val_accuracy: 0.5429\n",
      "Epoch 19/20\n",
      "5/5 [==============================] - 0s 17ms/step - loss: 0.6737 - accuracy: 0.5857 - val_loss: 0.6801 - val_accuracy: 0.5429\n",
      "Epoch 20/20\n",
      "5/5 [==============================] - 0s 17ms/step - loss: 0.6804 - accuracy: 0.5786 - val_loss: 0.6795 - val_accuracy: 0.6000\n"
     ]
    }
   ],
   "source": [
    "print(\"Training model...\")\n",
    "history = model.fit(X_train_scaled, y_train, epochs=20, batch_size=32, validation_split=0.2)"
   ]
  },
  {
   "cell_type": "markdown",
   "id": "62101208-ab7b-4816-8ac4-2a90238c029f",
   "metadata": {},
   "source": [
    "### Evaluate model"
   ]
  },
  {
   "cell_type": "code",
   "execution_count": 5,
   "id": "ed07e27f-2193-44d6-87aa-eab3fbfed8c8",
   "metadata": {},
   "outputs": [
    {
     "name": "stdout",
     "output_type": "stream",
     "text": [
      "3/3 [==============================] - 0s 5ms/step - loss: 0.7003 - accuracy: 0.5000\n",
      "\n",
      "Test Accuracy: 0.5000\n"
     ]
    }
   ],
   "source": [
    "test_loss, test_accuracy = model.evaluate(X_test_scaled, y_test)\n",
    "print(f\"\\nTest Accuracy: {test_accuracy:.4f}\")"
   ]
  },
  {
   "cell_type": "markdown",
   "id": "3a04c8eb-3595-4067-9b4d-fd58efad1680",
   "metadata": {},
   "source": [
    "### Generate predictions"
   ]
  },
  {
   "cell_type": "code",
   "execution_count": 6,
   "id": "e2c7a8e2-67a1-44ce-a492-e6f29e1d5803",
   "metadata": {},
   "outputs": [
    {
     "name": "stdout",
     "output_type": "stream",
     "text": [
      "3/3 [==============================] - 0s 4ms/step\n"
     ]
    }
   ],
   "source": [
    "y_pred = (model.predict(X_test_scaled) > 0.5).astype(int)"
   ]
  },
  {
   "cell_type": "markdown",
   "id": "69fb1e6b-d573-4a63-8665-4bae1cf4675e",
   "metadata": {},
   "source": [
    "### Generate classification report"
   ]
  },
  {
   "cell_type": "code",
   "execution_count": 7,
   "id": "690c73d2-7841-47cd-a5af-224133b04f4f",
   "metadata": {},
   "outputs": [
    {
     "name": "stdout",
     "output_type": "stream",
     "text": [
      "\n",
      "Classification Report:\n",
      "              precision    recall  f1-score   support\n",
      "\n",
      "        Down       0.38      0.24      0.30        33\n",
      "          Up       0.55      0.70      0.61        43\n",
      "\n",
      "    accuracy                           0.50        76\n",
      "   macro avg       0.46      0.47      0.45        76\n",
      "weighted avg       0.47      0.50      0.48        76\n",
      "\n"
     ]
    }
   ],
   "source": [
    "report = classification_report(y_test, y_pred, target_names=[\"Down\", \"Up\"])\n",
    "print(\"\\nClassification Report:\")\n",
    "print(report)"
   ]
  },
  {
   "cell_type": "markdown",
   "id": "26d22c48-16fd-46f8-a851-a3222dd8b4c3",
   "metadata": {},
   "source": [
    "### Save model and scaler"
   ]
  },
  {
   "cell_type": "code",
   "execution_count": 8,
   "id": "6189fd6d-c32b-46a6-bc3b-e91d8564cafc",
   "metadata": {},
   "outputs": [
    {
     "name": "stdout",
     "output_type": "stream",
     "text": [
      "Model and scaler saved successfully.\n"
     ]
    },
    {
     "name": "stderr",
     "output_type": "stream",
     "text": [
      "C:\\Users\\Neel\\anaconda3\\envs\\breast_cancer_env\\lib\\site-packages\\keras\\src\\engine\\training.py:3000: UserWarning: You are saving your model as an HDF5 file via `model.save()`. This file format is considered legacy. We recommend using instead the native Keras format, e.g. `model.save('my_model.keras')`.\n",
      "  saving_api.save_model(\n"
     ]
    }
   ],
   "source": [
    "model.save(\"stock_model.h5\")\n",
    "joblib.dump(scaler, \"stock_scaler.save\")\n",
    "print(\"Model and scaler saved successfully.\")"
   ]
  },
  {
   "cell_type": "code",
   "execution_count": null,
   "id": "f8b95750-b6d2-436f-995e-19c18cc6b2db",
   "metadata": {},
   "outputs": [],
   "source": []
  }
 ],
 "metadata": {
  "kernelspec": {
   "display_name": "Python (breast_cancer_env)",
   "language": "python",
   "name": "breast_cancer_env"
  },
  "language_info": {
   "codemirror_mode": {
    "name": "ipython",
    "version": 3
   },
   "file_extension": ".py",
   "mimetype": "text/x-python",
   "name": "python",
   "nbconvert_exporter": "python",
   "pygments_lexer": "ipython3",
   "version": "3.8.20"
  }
 },
 "nbformat": 4,
 "nbformat_minor": 5
}
